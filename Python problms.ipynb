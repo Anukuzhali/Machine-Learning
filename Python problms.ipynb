{
 "cells": [
  {
   "cell_type": "code",
   "execution_count": 3,
   "metadata": {},
   "outputs": [],
   "source": [
    "def word_split(phrase,list_of_words,output=None):\n",
    "    if output is None:\n",
    "        output=[]\n",
    "    for word in list_of_words:\n",
    "        if phrase.startswith(word):\n",
    "            output.append(word)\n",
    "            return word_split(phrase[len(word):],list_of_words,output)\n",
    "    return output"
   ]
  },
  {
   "cell_type": "code",
   "execution_count": 31,
   "metadata": {},
   "outputs": [
    {
     "data": {
      "text/plain": [
       "['love', ' ', 'I', ' ']"
      ]
     },
     "execution_count": 31,
     "metadata": {},
     "output_type": "execute_result"
    }
   ],
   "source": [
    "word_split('love I dog John',['I','am','love',' ','dogs','lover','John'])"
   ]
  },
  {
   "cell_type": "code",
   "execution_count": 17,
   "metadata": {},
   "outputs": [],
   "source": [
    "#Recursion\n",
    "def sum_func(n):\n",
    "    sum=0\n",
    "    while (n!=0):\n",
    "        sum=sum+(n%10)\n",
    "        n=n//10\n",
    "    return sum"
   ]
  },
  {
   "cell_type": "code",
   "execution_count": 18,
   "metadata": {},
   "outputs": [
    {
     "data": {
      "text/plain": [
       "10"
      ]
     },
     "execution_count": 18,
     "metadata": {},
     "output_type": "execute_result"
    }
   ],
   "source": [
    "sum_func(1234)"
   ]
  },
  {
   "cell_type": "code",
   "execution_count": 25,
   "metadata": {},
   "outputs": [],
   "source": [
    "#Converting as string and getting sum\n",
    "def getsum(n):\n",
    "    sum=0\n",
    "    for i in str(n):\n",
    "        sum=sum+int(i)\n",
    "    return sum"
   ]
  },
  {
   "cell_type": "code",
   "execution_count": 26,
   "metadata": {},
   "outputs": [
    {
     "data": {
      "text/plain": [
       "10"
      ]
     },
     "execution_count": 26,
     "metadata": {},
     "output_type": "execute_result"
    }
   ],
   "source": [
    "getsum(1234)"
   ]
  },
  {
   "cell_type": "code",
   "execution_count": 27,
   "metadata": {},
   "outputs": [],
   "source": [
    "a='Anu is a good girl'"
   ]
  },
  {
   "cell_type": "code",
   "execution_count": 29,
   "metadata": {},
   "outputs": [
    {
     "data": {
      "text/plain": [
       "['Anu', 'is', 'a', 'good', 'girl']"
      ]
     },
     "execution_count": 29,
     "metadata": {},
     "output_type": "execute_result"
    }
   ],
   "source": [
    "[a for a in a.split()]"
   ]
  },
  {
   "cell_type": "code",
   "execution_count": 30,
   "metadata": {},
   "outputs": [
    {
     "data": {
      "text/plain": [
       "['A',\n",
       " 'n',\n",
       " 'u',\n",
       " ' ',\n",
       " 'i',\n",
       " 's',\n",
       " ' ',\n",
       " 'a',\n",
       " ' ',\n",
       " 'g',\n",
       " 'o',\n",
       " 'o',\n",
       " 'd',\n",
       " ' ',\n",
       " 'g',\n",
       " 'i',\n",
       " 'r',\n",
       " 'l']"
      ]
     },
     "execution_count": 30,
     "metadata": {},
     "output_type": "execute_result"
    }
   ],
   "source": [
    "[a for a in a]"
   ]
  },
  {
   "cell_type": "code",
   "execution_count": 33,
   "metadata": {},
   "outputs": [
    {
     "data": {
      "text/plain": [
       "'una'"
      ]
     },
     "execution_count": 33,
     "metadata": {},
     "output_type": "execute_result"
    }
   ],
   "source": [
    "s='anu'\n",
    "s[::-1]"
   ]
  },
  {
   "cell_type": "code",
   "execution_count": 34,
   "metadata": {},
   "outputs": [],
   "source": [
    "#recursive\n",
    "def reverse(s):\n",
    "    if len(s)<=1:\n",
    "        return s\n",
    "    return reverse(s[1:])+s[0]\n",
    "    "
   ]
  },
  {
   "cell_type": "code",
   "execution_count": 36,
   "metadata": {},
   "outputs": [
    {
     "data": {
      "text/plain": [
       "'una'"
      ]
     },
     "execution_count": 36,
     "metadata": {},
     "output_type": "execute_result"
    }
   ],
   "source": [
    "reverse('anu')"
   ]
  },
  {
   "cell_type": "code",
   "execution_count": 51,
   "metadata": {},
   "outputs": [],
   "source": [
    "#All possible permuations of given string\n",
    "import itertools\n",
    "def permute(s):\n",
    "    for p in itertools.permutations(s):\n",
    "        print(p)\n",
    "    "
   ]
  },
  {
   "cell_type": "code",
   "execution_count": 52,
   "metadata": {},
   "outputs": [
    {
     "name": "stdout",
     "output_type": "stream",
     "text": [
      "('A', 'B', 'C')\n",
      "('A', 'C', 'B')\n",
      "('B', 'A', 'C')\n",
      "('B', 'C', 'A')\n",
      "('C', 'A', 'B')\n",
      "('C', 'B', 'A')\n"
     ]
    }
   ],
   "source": [
    "\n",
    "permute('ABC')"
   ]
  },
  {
   "cell_type": "code",
   "execution_count": 53,
   "metadata": {},
   "outputs": [
    {
     "name": "stdout",
     "output_type": "stream",
     "text": [
      "hack 2\n",
      "ac\n",
      "ah\n",
      "ak\n",
      "ca\n",
      "ch\n",
      "ck\n",
      "ha\n",
      "hc\n",
      "hk\n",
      "ka\n",
      "kc\n",
      "kh\n"
     ]
    }
   ],
   "source": [
    "from itertools import permutations\n",
    "string,length=input().split()\n",
    "output=[''.join(i) for i in permutations(string,int(length))]\n",
    "output.sort()\n",
    "print('\\n'.join(output))"
   ]
  },
  {
   "cell_type": "code",
   "execution_count": 2,
   "metadata": {},
   "outputs": [],
   "source": [
    "from itertools import permutations\n",
    "def permute(s):\n",
    "    output=[''.join(i) for i in permutations(s)]\n",
    "    output.sort()\n",
    "    print('\\n'.join(output))"
   ]
  },
  {
   "cell_type": "code",
   "execution_count": 58,
   "metadata": {
    "scrolled": true
   },
   "outputs": [
    {
     "name": "stdout",
     "output_type": "stream",
     "text": [
      "ABC\n",
      "ACB\n",
      "BAC\n",
      "BCA\n",
      "CAB\n",
      "CBA\n"
     ]
    }
   ],
   "source": [
    "permute('ABC')"
   ]
  },
  {
   "cell_type": "code",
   "execution_count": 3,
   "metadata": {},
   "outputs": [],
   "source": [
    "output=[''.join(i) for i in permutations('ABC')]"
   ]
  },
  {
   "cell_type": "code",
   "execution_count": 4,
   "metadata": {},
   "outputs": [
    {
     "data": {
      "text/plain": [
       "['ABC', 'ACB', 'BAC', 'BCA', 'CAB', 'CBA']"
      ]
     },
     "execution_count": 4,
     "metadata": {},
     "output_type": "execute_result"
    }
   ],
   "source": [
    "output"
   ]
  },
  {
   "cell_type": "code",
   "execution_count": 62,
   "metadata": {},
   "outputs": [],
   "source": [
    "#Recursive permutation\n",
    "def permute(s):\n",
    "    out=[]\n",
    "    #Base case \n",
    "    if len(s)==1:\n",
    "        out=[s]\n",
    "    else:\n",
    "        for i,let in enumerate(s):\n",
    "            for perm in permute(s[:i]+s[i+1:]):\n",
    "                out+=[let+perm]\n",
    "    return out"
   ]
  },
  {
   "cell_type": "code",
   "execution_count": 63,
   "metadata": {},
   "outputs": [
    {
     "data": {
      "text/plain": [
       "['abc', 'acb', 'bac', 'bca', 'cab', 'cba']"
      ]
     },
     "execution_count": 63,
     "metadata": {},
     "output_type": "execute_result"
    }
   ],
   "source": [
    "permute('abc')"
   ]
  },
  {
   "cell_type": "code",
   "execution_count": 5,
   "metadata": {},
   "outputs": [],
   "source": [
    "a=[5,2,2,8,5,6,8,8]"
   ]
  },
  {
   "cell_type": "code",
   "execution_count": 99,
   "metadata": {},
   "outputs": [],
   "source": [
    "b=sorted(a)"
   ]
  },
  {
   "cell_type": "code",
   "execution_count": 103,
   "metadata": {},
   "outputs": [],
   "source": [
    "c=sorted(b,key=lambda i:b.count(i),reverse=True)"
   ]
  },
  {
   "cell_type": "code",
   "execution_count": 104,
   "metadata": {},
   "outputs": [
    {
     "data": {
      "text/plain": [
       "[8, 8, 8, 2, 2, 5, 5, 6]"
      ]
     },
     "execution_count": 104,
     "metadata": {},
     "output_type": "execute_result"
    }
   ],
   "source": [
    "c"
   ]
  },
  {
   "cell_type": "code",
   "execution_count": 6,
   "metadata": {},
   "outputs": [],
   "source": [
    "#If we don't want to change ordering then\n",
    "#key is a function that will be called to transform the collection's items before they are compared.\n",
    "b=sorted(a,key=lambda i:a.index(i))"
   ]
  },
  {
   "cell_type": "code",
   "execution_count": 7,
   "metadata": {},
   "outputs": [
    {
     "data": {
      "text/plain": [
       "[5, 5, 2, 2, 8, 8, 8, 6]"
      ]
     },
     "execution_count": 7,
     "metadata": {},
     "output_type": "execute_result"
    }
   ],
   "source": [
    "b"
   ]
  },
  {
   "cell_type": "code",
   "execution_count": 106,
   "metadata": {},
   "outputs": [],
   "source": [
    "c=sorted(b,key=lambda i:b.count(i))"
   ]
  },
  {
   "cell_type": "code",
   "execution_count": 107,
   "metadata": {},
   "outputs": [
    {
     "data": {
      "text/plain": [
       "[6, 5, 5, 2, 2, 8, 8, 8]"
      ]
     },
     "execution_count": 107,
     "metadata": {},
     "output_type": "execute_result"
    }
   ],
   "source": [
    "c"
   ]
  },
  {
   "cell_type": "code",
   "execution_count": 108,
   "metadata": {},
   "outputs": [],
   "source": [
    "st='Hello how are'"
   ]
  },
  {
   "cell_type": "code",
   "execution_count": 109,
   "metadata": {},
   "outputs": [
    {
     "data": {
      "text/plain": [
       "['are', 'how', 'Hello']"
      ]
     },
     "execution_count": 109,
     "metadata": {},
     "output_type": "execute_result"
    }
   ],
   "source": [
    "st.split()[::-1]"
   ]
  },
  {
   "cell_type": "code",
   "execution_count": 111,
   "metadata": {},
   "outputs": [],
   "source": [
    "#Total number of ways a person can climb steps either onestep at a time or 2 step\n",
    "def climb_stairs(n):\n",
    "    one,two=1,1\n",
    "    \n",
    "    for i in range(n-1):\n",
    "        temp=one\n",
    "        one=one+two\n",
    "        two=temp\n",
    "    return one\n"
   ]
  },
  {
   "cell_type": "code",
   "execution_count": 113,
   "metadata": {},
   "outputs": [
    {
     "data": {
      "text/plain": [
       "21"
      ]
     },
     "execution_count": 113,
     "metadata": {},
     "output_type": "execute_result"
    }
   ],
   "source": [
    "climb_stairs(7)"
   ]
  },
  {
   "cell_type": "code",
   "execution_count": 118,
   "metadata": {},
   "outputs": [],
   "source": [
    "#Armstrong number\n",
    "def armstrong(n):\n",
    "    sum=0\n",
    "    temp=n\n",
    "    while temp>0:\n",
    "        digit=temp%10\n",
    "        sum=sum+digit**3\n",
    "        temp=temp//10\n",
    "    if n==sum:\n",
    "        print('Armstrong')\n",
    "    else:\n",
    "        print('Not an Armstron')"
   ]
  },
  {
   "cell_type": "code",
   "execution_count": 119,
   "metadata": {},
   "outputs": [
    {
     "name": "stdout",
     "output_type": "stream",
     "text": [
      "Armstrong\n"
     ]
    }
   ],
   "source": [
    "armstrong(370)"
   ]
  },
  {
   "cell_type": "code",
   "execution_count": 122,
   "metadata": {},
   "outputs": [
    {
     "name": "stdout",
     "output_type": "stream",
     "text": [
      "Not an Armstron\n"
     ]
    }
   ],
   "source": [
    "armstrong(408)"
   ]
  },
  {
   "cell_type": "code",
   "execution_count": 133,
   "metadata": {},
   "outputs": [],
   "source": [
    "#N queen problem\n",
    "def solveNqueens(n):\n",
    "    col=set()\n",
    "    posdiag=set()\n",
    "    negdiag=set()\n",
    "    \n",
    "    res=[]\n",
    "    board=[['.']*n for i in range(n)]\n",
    "    \n",
    "    def backtrack(r):\n",
    "        if r==n:\n",
    "            copy=[''.join(row) for row in board]\n",
    "            res.append(copy)\n",
    "            return\n",
    "        \n",
    "        for c in range(n):\n",
    "            if c in col or (r+c) in posdiag or (r-c) in negdiag:\n",
    "                continue\n",
    "            col.add(c)\n",
    "            posdiag.add(r+c)\n",
    "            negdiag.add(r-c)\n",
    "            board[r][c]='Q'\n",
    "                        \n",
    "            backtrack(r+1)\n",
    "           \n",
    "            col.remove(c)\n",
    "            posdiag.remove(r+c)\n",
    "            negdiag.remove(r-c)\n",
    "            board[r][c]='.'\n",
    "    backtrack(0)\n",
    "    return res\n",
    "            \n",
    "            "
   ]
  },
  {
   "cell_type": "code",
   "execution_count": 136,
   "metadata": {},
   "outputs": [
    {
     "data": {
      "text/plain": [
       "[['.Q..', '...Q', 'Q...', '..Q.'], ['..Q.', 'Q...', '...Q', '.Q..']]"
      ]
     },
     "execution_count": 136,
     "metadata": {},
     "output_type": "execute_result"
    }
   ],
   "source": [
    "solveNqueens(4)"
   ]
  },
  {
   "cell_type": "code",
   "execution_count": 3,
   "metadata": {},
   "outputs": [],
   "source": [
    "def index_prod(lst):\n",
    "    output=[None]*len(lst)\n",
    "    \n",
    "    product=1\n",
    "    i=0\n",
    "    #First pass- product before each index\n",
    "    while i<len(lst):\n",
    "        output[i]=product\n",
    "        product*=lst[i]\n",
    "        i+=1\n",
    "        \n",
    "    product=1\n",
    "    i=len(lst)-1\n",
    "    #combining second pass product after each index\n",
    "    while i>=0:\n",
    "        output[i]*=product\n",
    "        product*=lst[i]\n",
    "        i-=1\n",
    "    return output"
   ]
  },
  {
   "cell_type": "code",
   "execution_count": 4,
   "metadata": {},
   "outputs": [
    {
     "data": {
      "text/plain": [
       "[120, 60, 40, 30, 24]"
      ]
     },
     "execution_count": 4,
     "metadata": {},
     "output_type": "execute_result"
    }
   ],
   "source": [
    "index_prod([1,2,3,4,5])"
   ]
  },
  {
   "cell_type": "code",
   "execution_count": 5,
   "metadata": {},
   "outputs": [],
   "source": [
    " def calc_overlap(coor1,dim1,coor2,dim2):\n",
    "        greater=max(coor1,coor2)\n",
    "        lower=min(coor1+dim1,coor2+dim2)\n",
    "        \n",
    "        if greater>=lower:\n",
    "            return (None,None)\n",
    "        \n",
    "        overlap=lower-greater\n",
    "        return(greater,overlap)\n",
    "        "
   ]
  },
  {
   "cell_type": "code",
   "execution_count": 9,
   "metadata": {},
   "outputs": [],
   "source": [
    "def calc_rect_overlap(r1,r2):\n",
    "    x_overlap,w_overlap=calc_overlap(r1['x'],r1['w'],r2['x'],r2['w'])\n",
    "    y_overlap,h_overlap=calc_overlap(r1['y'],r1['h'],r2['y'],r2['h'])\n",
    "    \n",
    "    if not w_overlap or not h_overlap:\n",
    "        print('No overlap')\n",
    "        return None\n",
    "    \n",
    "    return {'x':x_overlap,'y':y_overlap,'w':w_overlap,'h':h_overlap}"
   ]
  },
  {
   "cell_type": "code",
   "execution_count": 10,
   "metadata": {},
   "outputs": [
    {
     "data": {
      "text/plain": [
       "{'x': 2, 'y': 5, 'w': 5, 'h': 11}"
      ]
     },
     "execution_count": 10,
     "metadata": {},
     "output_type": "execute_result"
    }
   ],
   "source": [
    "r1={'x':2,'y':4,'w':5,'h':12}\n",
    "r2={'x':1,'y':5,'w':7,'h':14}\n",
    "calc_rect_overlap(r1,r2)"
   ]
  },
  {
   "cell_type": "code",
   "execution_count": 11,
   "metadata": {},
   "outputs": [],
   "source": [
    "#Less efficient way takes long time to process because of recursive call\n",
    "def rec_coin(target,coins):\n",
    "    min_coins=target\n",
    "    \n",
    "    if target in coins:\n",
    "        return 1\n",
    "    else:\n",
    "        #For every coin value<=target\n",
    "        for i in [c for c in coins if c<=target]:\n",
    "            #Add a coin count+Recursive call\n",
    "            num_coins=1+rec_coin(target-i,coins)\n",
    "            \n",
    "            if num_coins< min_coins:\n",
    "                min_coins=num_coins\n",
    "    return min_coins"
   ]
  },
  {
   "cell_type": "code",
   "execution_count": 12,
   "metadata": {},
   "outputs": [
    {
     "data": {
      "text/plain": [
       "2"
      ]
     },
     "execution_count": 12,
     "metadata": {},
     "output_type": "execute_result"
    }
   ],
   "source": [
    "rec_coin(10,[1,2,5])"
   ]
  },
  {
   "cell_type": "code",
   "execution_count": 16,
   "metadata": {},
   "outputs": [],
   "source": [
    "def rec_coin_dynam(target,coins,known_results):\n",
    "    min_coins=target\n",
    "    \n",
    "    if target in coins:\n",
    "        known_results[target]=1\n",
    "        return 1\n",
    "    #Return known result if >1\n",
    "    elif known_results[target]>0:\n",
    "        return known_results[target]\n",
    "    else:\n",
    "        for i in [c for c in coins if c<=target]:\n",
    "            num_coins=1+rec_coin_dynam(target-i,coins,known_results)\n",
    "            \n",
    "            #reset minimuum if we have new min\n",
    "            if num_coins<min_coins:\n",
    "                min_coins=num_coins\n",
    "                #Reset that known result\n",
    "                known_results[target]=min_coins\n",
    "    return min_coins"
   ]
  },
  {
   "cell_type": "code",
   "execution_count": 19,
   "metadata": {},
   "outputs": [
    {
     "data": {
      "text/plain": [
       "8"
      ]
     },
     "execution_count": 19,
     "metadata": {},
     "output_type": "execute_result"
    }
   ],
   "source": [
    "target=74\n",
    "coins=[1,5,10,25]\n",
    "known_results=[0]*(target+1)\n",
    "rec_coin_dynam(target,coins,known_results)"
   ]
  },
  {
   "cell_type": "code",
   "execution_count": 3,
   "metadata": {},
   "outputs": [],
   "source": [
    "#no of ways we can get total coins. Here n refers target amount\n",
    "def way_coin(n,coins):\n",
    "    arr=[1]+[0]*n\n",
    "    #if a,b,c we are doing X-a+a to get X for a,b,c and summing thwm all\n",
    "    for coin in coins:\n",
    "        for i in range(coin,n+1):\n",
    "            arr[i]+=arr[i-coin]\n",
    "                        \n",
    "    if n==0:\n",
    "        return 0\n",
    "    else:\n",
    "        return arr[n]"
   ]
  },
  {
   "cell_type": "code",
   "execution_count": 4,
   "metadata": {},
   "outputs": [
    {
     "name": "stdout",
     "output_type": "stream",
     "text": [
      "1 1\n",
      "1 1\n",
      "1 1\n",
      "1 1\n",
      "1 1\n",
      "1 1\n",
      "1 1\n",
      "2 2\n",
      "2 2\n",
      "3 2\n",
      "3 2\n",
      "4 2\n",
      "4 2\n",
      "4 5\n",
      "5 5\n",
      "6 5\n"
     ]
    },
    {
     "data": {
      "text/plain": [
       "6"
      ]
     },
     "execution_count": 4,
     "metadata": {},
     "output_type": "execute_result"
    }
   ],
   "source": [
    "way_coin(7,[1,2,5])"
   ]
  },
  {
   "cell_type": "code",
   "execution_count": 26,
   "metadata": {},
   "outputs": [],
   "source": [
    "#Remove duplicates tree traversal -> op: tre avsl\n",
    "def remove_duplicates(s):\n",
    "    result=[]\n",
    "    seen=set()\n",
    "    \n",
    "    for i in s:\n",
    "        if i not in seen:\n",
    "            seen.add(i)\n",
    "            result.append(i)\n",
    "    \n",
    "    return ''.join(result)"
   ]
  },
  {
   "cell_type": "code",
   "execution_count": 27,
   "metadata": {},
   "outputs": [
    {
     "data": {
      "text/plain": [
       "'tre avsl'"
      ]
     },
     "execution_count": 27,
     "metadata": {},
     "output_type": "execute_result"
    }
   ],
   "source": [
    "remove_duplicates('tree traversal')"
   ]
  },
  {
   "cell_type": "code",
   "execution_count": 28,
   "metadata": {},
   "outputs": [],
   "source": [
    "def pair_sum(lst,target):\n",
    "    seen=set()\n",
    "    for num in lst:\n",
    "        num2=target-num\n",
    "        if num2 in seen:\n",
    "            return True\n",
    "        seen.add(num2)\n",
    "    return False"
   ]
  },
  {
   "cell_type": "code",
   "execution_count": 37,
   "metadata": {},
   "outputs": [],
   "source": [
    "#From the list of duplicate account ids find only the unique ids. This solution will work if there is only one unique id \n",
    "#Otherwise it will give sum of unique ids\n",
    "def uniqueId(id_list):\n",
    "   #Initiate unique id to 0\n",
    "    unique_id=0\n",
    "    \n",
    "    #XOR for every id in id list\n",
    "    for id in id_list:\n",
    "        unique_id^=id\n",
    "    return unique_id\n",
    "    "
   ]
  },
  {
   "cell_type": "code",
   "execution_count": 41,
   "metadata": {},
   "outputs": [
    {
     "data": {
      "text/plain": [
       "3"
      ]
     },
     "execution_count": 41,
     "metadata": {},
     "output_type": "execute_result"
    }
   ],
   "source": [
    "uniqueId([1,2,3,1,2])"
   ]
  },
  {
   "cell_type": "code",
   "execution_count": 8,
   "metadata": {},
   "outputs": [],
   "source": [
    "a = [[1,3, 2,3],[4,3,5,6],[7,8,9,3],[1,2,3,4]]\n",
    "b = [[1,0,0,0],[0,1,0,0],[0,0,1,0],[0,0,0,1]]\n"
   ]
  },
  {
   "cell_type": "code",
   "execution_count": 9,
   "metadata": {},
   "outputs": [
    {
     "data": {
      "text/plain": [
       "4"
      ]
     },
     "execution_count": 9,
     "metadata": {},
     "output_type": "execute_result"
    }
   ],
   "source": [
    "len(b)"
   ]
  },
  {
   "cell_type": "code",
   "execution_count": 11,
   "metadata": {},
   "outputs": [],
   "source": [
    "#Matrix Multiplication\n",
    "def matrix(a,b):\n",
    "    if len(a)==len(b):\n",
    "        result=[]\n",
    "        temp_row=len(b[0])*[0]\n",
    "        for r in range(len(a)):\n",
    "            result.append(temp_row[:])\n",
    "        \n",
    "        for i in range(len(a)):\n",
    "            for j in range(len(b)):\n",
    "                add=0\n",
    "                for k in range(len(a)):\n",
    "                    add=add+a[i][k]*b[k][j]\n",
    "                result[i][j]=add\n",
    "        return result\n",
    "    else:\n",
    "        print('Matrix Multiplication not possible')\n"
   ]
  },
  {
   "cell_type": "code",
   "execution_count": 12,
   "metadata": {},
   "outputs": [
    {
     "data": {
      "text/plain": [
       "[[1, 3, 2, 3], [4, 3, 5, 6], [7, 8, 9, 3], [1, 2, 3, 4]]"
      ]
     },
     "execution_count": 12,
     "metadata": {},
     "output_type": "execute_result"
    }
   ],
   "source": [
    "matrix(a,b)"
   ]
  },
  {
   "cell_type": "code",
   "execution_count": 18,
   "metadata": {},
   "outputs": [
    {
     "name": "stdout",
     "output_type": "stream",
     "text": [
      "[[0, 0, 0, 0], [0, 0, 0, 0], [0, 0, 0, 0], [0, 0, 0, 0]]\n"
     ]
    }
   ],
   "source": [
    "result=[]\n",
    "temp_row=len(b[0])*[0]\n",
    "for r in range(len(a)):\n",
    "    result.append(temp_row[:])\n",
    "print(result)"
   ]
  },
  {
   "cell_type": "code",
   "execution_count": 19,
   "metadata": {},
   "outputs": [
    {
     "data": {
      "text/plain": [
       "[0, 0, 0, 0]"
      ]
     },
     "execution_count": 19,
     "metadata": {},
     "output_type": "execute_result"
    }
   ],
   "source": [
    "temp_row"
   ]
  },
  {
   "cell_type": "code",
   "execution_count": 20,
   "metadata": {},
   "outputs": [
    {
     "data": {
      "text/plain": [
       "array([[1, 3, 2, 3],\n",
       "       [4, 3, 5, 6],\n",
       "       [7, 8, 9, 3],\n",
       "       [1, 2, 3, 4]])"
      ]
     },
     "execution_count": 20,
     "metadata": {},
     "output_type": "execute_result"
    }
   ],
   "source": [
    "# X (3X3) & Y (3X4) can be multiplied\n",
    "# Y (3X4) & Z (2X6) cannot be multiplied  \n",
    "import numpy as np\n",
    "np.dot(a,b)"
   ]
  },
  {
   "cell_type": "code",
   "execution_count": 16,
   "metadata": {},
   "outputs": [],
   "source": [
    "#Implementing count vectorizer\n",
    "docA = \"The cat sat on my face\"\n",
    "docB = \"The dog sat on my bed\" \n"
   ]
  },
  {
   "cell_type": "code",
   "execution_count": 17,
   "metadata": {},
   "outputs": [],
   "source": [
    "bowA=docA.split()\n",
    "bowB=docB.split()"
   ]
  },
  {
   "cell_type": "code",
   "execution_count": 18,
   "metadata": {},
   "outputs": [],
   "source": [
    "tbow=set(bowA).union(bowB)"
   ]
  },
  {
   "cell_type": "code",
   "execution_count": 19,
   "metadata": {},
   "outputs": [
    {
     "data": {
      "text/plain": [
       "{'The', 'bed', 'cat', 'dog', 'face', 'my', 'on', 'sat'}"
      ]
     },
     "execution_count": 19,
     "metadata": {},
     "output_type": "execute_result"
    }
   ],
   "source": [
    "tbow"
   ]
  },
  {
   "cell_type": "code",
   "execution_count": 20,
   "metadata": {},
   "outputs": [],
   "source": [
    "worddictA=dict.fromkeys(tbow,0)\n",
    "worddictB=dict.fromkeys(tbow,0)"
   ]
  },
  {
   "cell_type": "code",
   "execution_count": 21,
   "metadata": {},
   "outputs": [
    {
     "data": {
      "text/plain": [
       "{'cat': 0, 'sat': 0, 'my': 0, 'on': 0, 'bed': 0, 'dog': 0, 'face': 0, 'The': 0}"
      ]
     },
     "execution_count": 21,
     "metadata": {},
     "output_type": "execute_result"
    }
   ],
   "source": [
    "worddictA"
   ]
  },
  {
   "cell_type": "code",
   "execution_count": 7,
   "metadata": {},
   "outputs": [],
   "source": [
    "for word in bowA:\n",
    "    worddictA[word]+=1\n",
    "for word in bowB:\n",
    "    worddictB[word]+=1"
   ]
  },
  {
   "cell_type": "code",
   "execution_count": 8,
   "metadata": {},
   "outputs": [
    {
     "data": {
      "text/plain": [
       "{'on': 1, 'dog': 0, 'bed': 0, 'sat': 1, 'face': 1, 'cat': 1, 'The': 1, 'my': 1}"
      ]
     },
     "execution_count": 8,
     "metadata": {},
     "output_type": "execute_result"
    }
   ],
   "source": [
    "worddictA"
   ]
  },
  {
   "cell_type": "code",
   "execution_count": 9,
   "metadata": {},
   "outputs": [
    {
     "data": {
      "text/html": [
       "<div>\n",
       "<style scoped>\n",
       "    .dataframe tbody tr th:only-of-type {\n",
       "        vertical-align: middle;\n",
       "    }\n",
       "\n",
       "    .dataframe tbody tr th {\n",
       "        vertical-align: top;\n",
       "    }\n",
       "\n",
       "    .dataframe thead th {\n",
       "        text-align: right;\n",
       "    }\n",
       "</style>\n",
       "<table border=\"1\" class=\"dataframe\">\n",
       "  <thead>\n",
       "    <tr style=\"text-align: right;\">\n",
       "      <th></th>\n",
       "      <th>on</th>\n",
       "      <th>dog</th>\n",
       "      <th>bed</th>\n",
       "      <th>sat</th>\n",
       "      <th>face</th>\n",
       "      <th>cat</th>\n",
       "      <th>The</th>\n",
       "      <th>my</th>\n",
       "    </tr>\n",
       "  </thead>\n",
       "  <tbody>\n",
       "    <tr>\n",
       "      <th>0</th>\n",
       "      <td>1</td>\n",
       "      <td>0</td>\n",
       "      <td>0</td>\n",
       "      <td>1</td>\n",
       "      <td>1</td>\n",
       "      <td>1</td>\n",
       "      <td>1</td>\n",
       "      <td>1</td>\n",
       "    </tr>\n",
       "    <tr>\n",
       "      <th>1</th>\n",
       "      <td>1</td>\n",
       "      <td>1</td>\n",
       "      <td>1</td>\n",
       "      <td>1</td>\n",
       "      <td>0</td>\n",
       "      <td>0</td>\n",
       "      <td>1</td>\n",
       "      <td>1</td>\n",
       "    </tr>\n",
       "  </tbody>\n",
       "</table>\n",
       "</div>"
      ],
      "text/plain": [
       "   on  dog  bed  sat  face  cat  The  my\n",
       "0   1    0    0    1     1    1    1   1\n",
       "1   1    1    1    1     0    0    1   1"
      ]
     },
     "execution_count": 9,
     "metadata": {},
     "output_type": "execute_result"
    }
   ],
   "source": [
    "import pandas as pd\n",
    "pd.DataFrame([worddictA,worddictB])"
   ]
  },
  {
   "cell_type": "code",
   "execution_count": 10,
   "metadata": {},
   "outputs": [],
   "source": [
    "#TFIDF\n",
    "def computeTF(worddict,bow):\n",
    "    tfdict={}\n",
    "    bowcount=len(bow)\n",
    "    for word,count in worddict.items():\n",
    "        tfdict[word]=count/float(bowcount)\n",
    "    return tfdict"
   ]
  },
  {
   "cell_type": "code",
   "execution_count": 11,
   "metadata": {},
   "outputs": [],
   "source": [
    "tfA=computeTF(worddictA,bowA)\n",
    "tfB=computeTF(worddictB,bowB)"
   ]
  },
  {
   "cell_type": "code",
   "execution_count": 12,
   "metadata": {},
   "outputs": [
    {
     "data": {
      "text/plain": [
       "{'on': 0.16666666666666666,\n",
       " 'dog': 0.0,\n",
       " 'bed': 0.0,\n",
       " 'sat': 0.16666666666666666,\n",
       " 'face': 0.16666666666666666,\n",
       " 'cat': 0.16666666666666666,\n",
       " 'The': 0.16666666666666666,\n",
       " 'my': 0.16666666666666666}"
      ]
     },
     "execution_count": 12,
     "metadata": {},
     "output_type": "execute_result"
    }
   ],
   "source": [
    "tfA"
   ]
  },
  {
   "cell_type": "code",
   "execution_count": 18,
   "metadata": {},
   "outputs": [],
   "source": [
    "import math\n",
    "def computeIDF(doclist):\n",
    "    idf={}\n",
    "    N=len(doclist)\n",
    "    idf=dict.fromkeys(doclist[0].keys(),0)\n",
    "    for doc in doclist:\n",
    "        for word,count in doc.items():\n",
    "            if count>0:\n",
    "                idf[word]+=1\n",
    "    for word,count in idf.items():\n",
    "        idf[word]=math.log10(N/float(count))\n",
    "    return idf"
   ]
  },
  {
   "cell_type": "code",
   "execution_count": 19,
   "metadata": {},
   "outputs": [],
   "source": [
    "idfs=computeIDF([worddictA,worddictB])"
   ]
  },
  {
   "cell_type": "code",
   "execution_count": 20,
   "metadata": {},
   "outputs": [
    {
     "data": {
      "text/plain": [
       "{'on': 0.0,\n",
       " 'dog': 0.3010299956639812,\n",
       " 'bed': 0.3010299956639812,\n",
       " 'sat': 0.0,\n",
       " 'face': 0.3010299956639812,\n",
       " 'cat': 0.3010299956639812,\n",
       " 'The': 0.0,\n",
       " 'my': 0.0}"
      ]
     },
     "execution_count": 20,
     "metadata": {},
     "output_type": "execute_result"
    }
   ],
   "source": [
    "idfs"
   ]
  },
  {
   "cell_type": "code",
   "execution_count": 21,
   "metadata": {},
   "outputs": [],
   "source": [
    "def compute_tfIDF(tf,idfs):\n",
    "    tfidf={}\n",
    "    for word,count in tf.items():\n",
    "        tfidf[word]=count*idfs[word]\n",
    "    return tfidf\n",
    "    "
   ]
  },
  {
   "cell_type": "code",
   "execution_count": 25,
   "metadata": {},
   "outputs": [],
   "source": [
    "tfidfA=compute_tfIDF(tfA,idfs)\n",
    "tfidfB=compute_tfIDF(tfB,idfs)"
   ]
  },
  {
   "cell_type": "code",
   "execution_count": 23,
   "metadata": {},
   "outputs": [
    {
     "data": {
      "text/plain": [
       "{'on': 0.0,\n",
       " 'dog': 0.0,\n",
       " 'bed': 0.0,\n",
       " 'sat': 0.0,\n",
       " 'face': 0.050171665943996864,\n",
       " 'cat': 0.050171665943996864,\n",
       " 'The': 0.0,\n",
       " 'my': 0.0}"
      ]
     },
     "execution_count": 23,
     "metadata": {},
     "output_type": "execute_result"
    }
   ],
   "source": [
    "tfidfA"
   ]
  },
  {
   "cell_type": "code",
   "execution_count": 26,
   "metadata": {},
   "outputs": [
    {
     "data": {
      "text/html": [
       "<div>\n",
       "<style scoped>\n",
       "    .dataframe tbody tr th:only-of-type {\n",
       "        vertical-align: middle;\n",
       "    }\n",
       "\n",
       "    .dataframe tbody tr th {\n",
       "        vertical-align: top;\n",
       "    }\n",
       "\n",
       "    .dataframe thead th {\n",
       "        text-align: right;\n",
       "    }\n",
       "</style>\n",
       "<table border=\"1\" class=\"dataframe\">\n",
       "  <thead>\n",
       "    <tr style=\"text-align: right;\">\n",
       "      <th></th>\n",
       "      <th>on</th>\n",
       "      <th>dog</th>\n",
       "      <th>bed</th>\n",
       "      <th>sat</th>\n",
       "      <th>face</th>\n",
       "      <th>cat</th>\n",
       "      <th>The</th>\n",
       "      <th>my</th>\n",
       "    </tr>\n",
       "  </thead>\n",
       "  <tbody>\n",
       "    <tr>\n",
       "      <th>0</th>\n",
       "      <td>0.0</td>\n",
       "      <td>0.000000</td>\n",
       "      <td>0.000000</td>\n",
       "      <td>0.0</td>\n",
       "      <td>0.050172</td>\n",
       "      <td>0.050172</td>\n",
       "      <td>0.0</td>\n",
       "      <td>0.0</td>\n",
       "    </tr>\n",
       "    <tr>\n",
       "      <th>1</th>\n",
       "      <td>0.0</td>\n",
       "      <td>0.050172</td>\n",
       "      <td>0.050172</td>\n",
       "      <td>0.0</td>\n",
       "      <td>0.000000</td>\n",
       "      <td>0.000000</td>\n",
       "      <td>0.0</td>\n",
       "      <td>0.0</td>\n",
       "    </tr>\n",
       "  </tbody>\n",
       "</table>\n",
       "</div>"
      ],
      "text/plain": [
       "    on       dog       bed  sat      face       cat  The   my\n",
       "0  0.0  0.000000  0.000000  0.0  0.050172  0.050172  0.0  0.0\n",
       "1  0.0  0.050172  0.050172  0.0  0.000000  0.000000  0.0  0.0"
      ]
     },
     "execution_count": 26,
     "metadata": {},
     "output_type": "execute_result"
    }
   ],
   "source": [
    "import pandas as pd\n",
    "pd.DataFrame([tfidfA,tfidfB])"
   ]
  },
  {
   "cell_type": "code",
   "execution_count": 41,
   "metadata": {},
   "outputs": [],
   "source": [
    "#Replace numbers with # and remaininig characters with spaces\n",
    "#INPUT'S\n",
    "A = \"234\" \n",
    "B = \"a2b3c4\" \n",
    "C = \"abc\" \n",
    "D = \"#2a$#b%c%561#\"\n",
    "import re\n",
    "def replace(s):\n",
    "    s=re.sub(r'[^0-9]','',str(s))\n",
    "    s=re.sub(r'\\d','#',s)\n",
    "    return s\n",
    "    \n",
    "    "
   ]
  },
  {
   "cell_type": "code",
   "execution_count": 42,
   "metadata": {},
   "outputs": [
    {
     "data": {
      "text/plain": [
       "''"
      ]
     },
     "execution_count": 42,
     "metadata": {},
     "output_type": "execute_result"
    }
   ],
   "source": [
    "\n",
    "replace(C)"
   ]
  },
  {
   "cell_type": "code",
   "execution_count": 43,
   "metadata": {},
   "outputs": [
    {
     "data": {
      "text/plain": [
       "'####'"
      ]
     },
     "execution_count": 43,
     "metadata": {},
     "output_type": "execute_result"
    }
   ],
   "source": [
    "replace(D)"
   ]
  },
  {
   "cell_type": "code",
   "execution_count": 44,
   "metadata": {},
   "outputs": [
    {
     "data": {
      "text/plain": [
       "'####'"
      ]
     },
     "execution_count": 44,
     "metadata": {},
     "output_type": "execute_result"
    }
   ],
   "source": [
    "a=1234\n",
    "replace(a)"
   ]
  },
  {
   "cell_type": "code",
   "execution_count": 45,
   "metadata": {},
   "outputs": [
    {
     "data": {
      "text/plain": [
       "'###'"
      ]
     },
     "execution_count": 45,
     "metadata": {},
     "output_type": "execute_result"
    }
   ],
   "source": [
    "replace(A)"
   ]
  },
  {
   "cell_type": "code",
   "execution_count": 46,
   "metadata": {},
   "outputs": [],
   "source": [
    "Students=['student1','student2','student3','student4','student5','student6','student7','student8','student9','student10'] \n",
    "Marks = [45, 78, 12, 14, 48, 43, 47, 98, 35, 80]\n"
   ]
  },
  {
   "cell_type": "code",
   "execution_count": 55,
   "metadata": {},
   "outputs": [],
   "source": [
    "def get_student(student,marks):\n",
    "    sdict=dict(zip(student,marks))\n",
    "    \n",
    "    print(\"Students who got top 5 ranks\")\n",
    "    for stud,marks in sorted(sdict.items(),key=lambda item:item[1],reverse=True)[:5]:\n",
    "        print(\"%s: %s\" % (stud, marks))\n",
    "    print(\"Students who got bottom 5 ranks\")\n",
    "    for stud,marks in sorted(sdict.items(),key=lambda item:item[1])[:5]:\n",
    "        print(\"%s: %s\" % (stud, marks))\n",
    "    print(\"Students who got between 25 and 75%\")\n",
    "    for stud,marks in sorted(sdict.items(),key=lambda item:item[1]):\n",
    "        percentage=marks*100.0/100\n",
    "        if 25<percentage<75:\n",
    "            print(f'{stud}:{marks}')\n",
    "    "
   ]
  },
  {
   "cell_type": "code",
   "execution_count": 56,
   "metadata": {},
   "outputs": [
    {
     "name": "stdout",
     "output_type": "stream",
     "text": [
      "Students who got top 5 ranks\n",
      "student8: 98\n",
      "student10: 80\n",
      "student2: 78\n",
      "student5: 48\n",
      "student7: 47\n",
      "Students who got bottom 5 ranks\n",
      "student3: 12\n",
      "student4: 14\n",
      "student9: 35\n",
      "student6: 43\n",
      "student1: 45\n",
      "Students who got between 25 and 75%\n",
      "student9:35\n",
      "student6:43\n",
      "student1:45\n",
      "student7:47\n",
      "student5:48\n"
     ]
    }
   ],
   "source": [
    "get_student(Students,Marks)"
   ]
  },
  {
   "cell_type": "code",
   "execution_count": 80,
   "metadata": {},
   "outputs": [],
   "source": [
    "import math\n",
    "\n",
    "P = (3,4)\n",
    "S = [(2,-1), (5,3),(4,-1),(2,1),(2,-3),(-1,2),(-3,4),(-4,2)]\n",
    "distance = {}\n",
    "\n",
    "def close_points(point,point_list):\n",
    "    for i in range(len(point_list)):\n",
    "        d = math.acos(((point_list[i][0]*point[0])+(point_list[i][1]*point[1]))/((math.sqrt((point_list[i][0]**2)+(point_list[i][1]**2))) *(math.sqrt((point[0]**2)+(point[1]**2)))))\n",
    "        distance[point_list[i]] = d\n",
    "    \n",
    "    \n",
    "    dis = sorted(distance.values())[:5]\n",
    "    \n",
    "    print(\"Closes point from P :\")\n",
    "    for m in dis:\n",
    "        print(\"Distance from P(3,4) point to the {}\".format(list(distance.keys())[list(distance.values()).index(m)]))\n",
    "    for key, value in sorted(distance.items(), key=lambda item: item[1])[:5]:\n",
    "        print(f'Closest distance point is {key}')\n"
   ]
  },
  {
   "cell_type": "code",
   "execution_count": 81,
   "metadata": {},
   "outputs": [
    {
     "name": "stdout",
     "output_type": "stream",
     "text": [
      "Closes point from P :\n",
      "Distance from P(3,4) point to the (5, 3)\n",
      "Distance from P(3,4) point to the (2, 1)\n",
      "Distance from P(3,4) point to the (-1, 2)\n",
      "Distance from P(3,4) point to the (4, -1)\n",
      "Distance from P(3,4) point to the (-3, 4)\n",
      "Closest distance point is (5, 3)\n",
      "Closest distance point is (2, 1)\n",
      "Closest distance point is (-1, 2)\n",
      "Closest distance point is (4, -1)\n",
      "Closest distance point is (-3, 4)\n"
     ]
    }
   ],
   "source": [
    "close_points(P,S)"
   ]
  },
  {
   "cell_type": "code",
   "execution_count": 83,
   "metadata": {},
   "outputs": [
    {
     "name": "stdout",
     "output_type": "stream",
     "text": [
      "Enter a stringHello!1\n",
      "Lower count: 4\n",
      "Upper count: 1\n",
      "Digit Count: 1\n",
      "Special char count: 1\n"
     ]
    }
   ],
   "source": [
    "#Count lower,upper,digit and special characters\n",
    "s=input('Enter a string')\n",
    "\n",
    "lowerc=0\n",
    "upperc=0\n",
    "digitc=0\n",
    "specialc=0\n",
    "\n",
    "for char in s:\n",
    "    if char.islower():\n",
    "        lowerc+=1\n",
    "    elif char.isupper():\n",
    "        upperc+=1\n",
    "    elif char.isdigit():\n",
    "        digitc+=1\n",
    "    else:\n",
    "        specialc+=1\n",
    "        \n",
    "print('Lower count:',lowerc)\n",
    "print('Upper count:',upperc)\n",
    "print('Digit Count:',digitc)\n",
    "print('Special char count:',specialc)\n",
    "    "
   ]
  },
  {
   "cell_type": "code",
   "execution_count": 87,
   "metadata": {},
   "outputs": [],
   "source": [
    "#To find if an array contains element > 30\n",
    "mylist1=[23,56,88]\n",
    "mylist2=[21,22,26]\n",
    "\n",
    "import numpy as np\n",
    "mylist1=np.array(mylist1)\n",
    "mylist2=np.array(mylist2)"
   ]
  },
  {
   "cell_type": "code",
   "execution_count": 95,
   "metadata": {},
   "outputs": [
    {
     "data": {
      "text/plain": [
       "1"
      ]
     },
     "execution_count": 95,
     "metadata": {},
     "output_type": "execute_result"
    }
   ],
   "source": [
    "((mylist1>30).sum()>0).astype(int)"
   ]
  },
  {
   "cell_type": "code",
   "execution_count": 96,
   "metadata": {},
   "outputs": [
    {
     "data": {
      "text/plain": [
       "0"
      ]
     },
     "execution_count": 96,
     "metadata": {},
     "output_type": "execute_result"
    }
   ],
   "source": [
    "((mylist2>30).sum()>0).astype(int)"
   ]
  },
  {
   "cell_type": "code",
   "execution_count": 100,
   "metadata": {},
   "outputs": [],
   "source": [
    "r=list(filter(lambda x:x>30,mylist1))"
   ]
  },
  {
   "cell_type": "code",
   "execution_count": 101,
   "metadata": {},
   "outputs": [
    {
     "data": {
      "text/plain": [
       "[56, 88]"
      ]
     },
     "execution_count": 101,
     "metadata": {},
     "output_type": "execute_result"
    }
   ],
   "source": [
    "r"
   ]
  },
  {
   "cell_type": "code",
   "execution_count": 102,
   "metadata": {},
   "outputs": [],
   "source": [
    "import re\n",
    "\n",
    "green =[(5,2),(2,1),(2,5)]\n",
    "red  =[(-2,-3),(-1,-4)]\n",
    "lines =[\"1x+1y+0\",\"1x-1y+0\",\"1x+0y-4\",\"0x-1y-2\"]\n"
   ]
  },
  {
   "cell_type": "code",
   "execution_count": 109,
   "metadata": {},
   "outputs": [
    {
     "name": "stdout",
     "output_type": "stream",
     "text": [
      "gr [7, 3, 7]\n",
      "rd [-5]\n",
      "gr [7, 3, 7]\n",
      "rd [-5, -5]\n",
      "Not classified\n",
      "gr [3, 1, -3]\n",
      "rd [1]\n",
      "gr [3, 1, -3]\n",
      "rd [1, 3]\n",
      "Not classified\n",
      "gr [1, -2, -2]\n",
      "rd [-6]\n",
      "gr [1, -2, -2]\n",
      "rd [-6, -5]\n",
      "Not classified\n",
      "gr [-4, -3, -7]\n",
      "rd [1]\n",
      "gr [-4, -3, -7]\n",
      "rd [1, 2]\n",
      "classified using line0x+-1y+c\n"
     ]
    }
   ],
   "source": [
    "def clf_classes(a,b,c):\n",
    "    gr=[]\n",
    "    rd=[]\n",
    "    for i in range(len(green)):\n",
    "        g=((a*green[i][0])+b*green[i][1]+c)\n",
    "        gr.append(g)\n",
    "    for i in range(len(red)):\n",
    "        r=((a*red[i][0])+b*red[i][1]+c)\n",
    "        rd.append(r)\n",
    "        print('gr',gr)\n",
    "        print('rd',rd)\n",
    "    finalrd=all(j>0 for j in rd)\n",
    "    finalgr=all(j<0 for j in gr)\n",
    "    if (finalgr==True and finalrd==True):\n",
    "        print(\"classified using line{}x+{}y+c\".format(a,b,c))\n",
    "    else:\n",
    "        print('Not classified')\n",
    "for line in lines:\n",
    "    a,b,c=[int(x.strip()) for x in re.split('x|y',line)]\n",
    "    clf_classes(a,b,c)\n",
    "    "
   ]
  },
  {
   "cell_type": "markdown",
   "metadata": {},
   "source": [
    "Operations on sentences\n",
    "You will be given two sentances S1, S2 your task is to find\n",
    "\n",
    "a. Number of common words between S1, S2\n",
    "b. Words in S1 but not in S2\n",
    "c. Words in S2 but not in S1\n",
    "Ex:\n",
    "\n",
    "S1= \"the first column F will contain only 5 unique values\"\n",
    "S2= \"the second column S will contain only 3 unique values\"\n",
    "Output:\n",
    "a. 7\n",
    "b. ['first','F','5']\n",
    "c. ['second','S','3']\n"
   ]
  },
  {
   "cell_type": "code",
   "execution_count": 115,
   "metadata": {},
   "outputs": [],
   "source": [
    "def common_words(s1,s2):\n",
    "    a=[]\n",
    "    for i in s1.split():\n",
    "        for j in s1.split():\n",
    "            if (i==j):\n",
    "                a.append(i)\n",
    "    print(len(a))\n",
    "    b=list(set(s1.split())-set(s2.split()))\n",
    "    c=list(set(s2.split())-set(s1.split()))\n",
    "    print(b)\n",
    "    print(c)"
   ]
  },
  {
   "cell_type": "code",
   "execution_count": 116,
   "metadata": {
    "scrolled": true
   },
   "outputs": [
    {
     "name": "stdout",
     "output_type": "stream",
     "text": [
      "10\n",
      "['5', 'F', 'first']\n",
      "['3', 'S', 'second']\n"
     ]
    }
   ],
   "source": [
    "S1= \"the first column F will contain only 5 uniques values\"\n",
    "S2= \"the second column S will contain only 3 uniques values\"\n",
    "common_words(S1,S2)"
   ]
  },
  {
   "cell_type": "code",
   "execution_count": 131,
   "metadata": {},
   "outputs": [],
   "source": [
    "s='daabacada'"
   ]
  },
  {
   "cell_type": "code",
   "execution_count": 125,
   "metadata": {},
   "outputs": [
    {
     "data": {
      "text/plain": [
       "'aaaaabbcd'"
      ]
     },
     "execution_count": 125,
     "metadata": {},
     "output_type": "execute_result"
    }
   ],
   "source": [
    "''.join(sorted(s))"
   ]
  },
  {
   "cell_type": "code",
   "execution_count": 132,
   "metadata": {},
   "outputs": [],
   "source": [
    "b=sorted(s,key=lambda i:s.index(i))"
   ]
  },
  {
   "cell_type": "code",
   "execution_count": 133,
   "metadata": {},
   "outputs": [
    {
     "data": {
      "text/plain": [
       "['d', 'd', 'a', 'a', 'a', 'a', 'a', 'b', 'c']"
      ]
     },
     "execution_count": 133,
     "metadata": {},
     "output_type": "execute_result"
    }
   ],
   "source": [
    "b"
   ]
  },
  {
   "cell_type": "code",
   "execution_count": 155,
   "metadata": {},
   "outputs": [],
   "source": [
    "#minimum number of days to eat oranges. Either 1 or n/2 or 2n/3\n",
    "def min_days(n):\n",
    "    dp={0:0,1:1}\n",
    "    def dfs(n):\n",
    "        if n in dp:\n",
    "            return dp[n]\n",
    "        one=1+(n%2)+dfs(n//2)\n",
    "        two=1+(n%3)+dfs(n//3)\n",
    "        dp[n]=min(one,two)\n",
    "        print(dp)\n",
    "        return dp[n]\n",
    "    return dfs(n)"
   ]
  },
  {
   "cell_type": "code",
   "execution_count": 156,
   "metadata": {},
   "outputs": [
    {
     "name": "stdout",
     "output_type": "stream",
     "text": [
      "{0: 0, 1: 1, 2: 2}\n",
      "{0: 0, 1: 1, 2: 2, 4: 3}\n",
      "{0: 0, 1: 1, 2: 2, 4: 3, 8: 4}\n",
      "{0: 0, 1: 1, 2: 2, 4: 3, 8: 4, 5: 4}\n",
      "{0: 0, 1: 1, 2: 2, 4: 3, 8: 4, 5: 4, 17: 6}\n"
     ]
    },
    {
     "data": {
      "text/plain": [
       "6"
      ]
     },
     "execution_count": 156,
     "metadata": {},
     "output_type": "execute_result"
    }
   ],
   "source": [
    "min_days(17)"
   ]
  },
  {
   "cell_type": "code",
   "execution_count": 157,
   "metadata": {},
   "outputs": [],
   "source": [
    "def min_days(n):\n",
    "    if (n==0):\n",
    "        return 0\n",
    "    if (n==1):\n",
    "        return 1\n",
    "    one=1+(n%2)+min_days(n//2)\n",
    "    two=1+(n%3)+min_days(n//3)\n",
    "    result=min(one,two)\n",
    "    return result"
   ]
  },
  {
   "cell_type": "code",
   "execution_count": 158,
   "metadata": {},
   "outputs": [
    {
     "data": {
      "text/plain": [
       "6"
      ]
     },
     "execution_count": 158,
     "metadata": {},
     "output_type": "execute_result"
    }
   ],
   "source": [
    "min_days(17)"
   ]
  },
  {
   "cell_type": "code",
   "execution_count": 3,
   "metadata": {},
   "outputs": [],
   "source": [
    "s='Levelheaded Llama'.split()"
   ]
  },
  {
   "cell_type": "code",
   "execution_count": 8,
   "metadata": {},
   "outputs": [
    {
     "data": {
      "text/plain": [
       "'L'"
      ]
     },
     "execution_count": 8,
     "metadata": {},
     "output_type": "execute_result"
    }
   ],
   "source": [
    "s[0][0]"
   ]
  },
  {
   "cell_type": "code",
   "execution_count": 9,
   "metadata": {},
   "outputs": [],
   "source": [
    "def makes_twenty(n1,n2):\n",
    "    return (n1+n2)==20 or n1==20 or n2==20"
   ]
  },
  {
   "cell_type": "code",
   "execution_count": 10,
   "metadata": {},
   "outputs": [],
   "source": [
    "def old_macdonald(name):\n",
    "    if len(name) > 3:\n",
    "        return name[:3].capitalize() + name[3:].capitalize()\n",
    "    else:\n",
    "        return 'Name is too short!'"
   ]
  },
  {
   "cell_type": "code",
   "execution_count": 11,
   "metadata": {},
   "outputs": [],
   "source": [
    "\n",
    "def almost_there(n):\n",
    "    return ((abs(100 - n) <= 10) or (abs(200 - n) <= 10))"
   ]
  },
  {
   "cell_type": "code",
   "execution_count": 12,
   "metadata": {},
   "outputs": [],
   "source": [
    "def has_33(nums):\n",
    "    for i in range(0, len(nums)-1):\n",
    "      \n",
    "        # nicer looking alternative in commented code\n",
    "        #if nums[i] == 3 and nums[i+1] == 3:\n",
    "    \n",
    "        if nums[i:i+2] == [3,3]:\n",
    "            return True  \n",
    "    \n",
    "    return False"
   ]
  },
  {
   "cell_type": "code",
   "execution_count": 13,
   "metadata": {},
   "outputs": [],
   "source": [
    "def paper_doll(text):\n",
    "    result = ''\n",
    "    for char in text:\n",
    "        result += char * 3\n",
    "    return result"
   ]
  },
  {
   "cell_type": "code",
   "execution_count": 14,
   "metadata": {},
   "outputs": [
    {
     "data": {
      "text/plain": [
       "'HHHeeellllllooo'"
      ]
     },
     "execution_count": 14,
     "metadata": {},
     "output_type": "execute_result"
    }
   ],
   "source": [
    "paper_doll('Hello')"
   ]
  },
  {
   "cell_type": "markdown",
   "metadata": {},
   "source": [
    "#### BLACKJACK: Given three integers between 1 and 11, if their sum is less than or equal to 21, return their sum. If their sum exceeds 21 *and* there's an eleven, reduce the total sum by 10. Finally, if the sum (even after adjustment) exceeds 21, return 'BUST'\n",
    "    blackjack(5,6,7) --> 18\n",
    "    blackjack(9,9,9) --> 'BUST'\n",
    "    blackjack(9,9,11) --> 19"
   ]
  },
  {
   "cell_type": "code",
   "execution_count": 15,
   "metadata": {},
   "outputs": [],
   "source": [
    "def blackjack(a,b,c):\n",
    "    \n",
    "    if sum((a,b,c)) <= 21:\n",
    "        return sum((a,b,c))\n",
    "    elif sum((a,b,c)) <=31 and 11 in (a,b,c):\n",
    "        return sum((a,b,c)) - 10\n",
    "    else:\n",
    "        return 'BUST'"
   ]
  },
  {
   "cell_type": "markdown",
   "metadata": {},
   "source": [
    "#### SUMMER OF '69: Return the sum of the numbers in the array, except ignore sections of numbers starting with a 6 and extending to the next 9 (every 6 will be followed by at least one 9). Return 0 for no numbers.\n",
    " \n",
    "    summer_69([1, 3, 5]) --> 9\n",
    "    summer_69([4, 5, 6, 7, 8, 9]) --> 9\n",
    "    summer_69([2, 1, 6, 9, 11]) --> 14"
   ]
  },
  {
   "cell_type": "code",
   "execution_count": 16,
   "metadata": {},
   "outputs": [],
   "source": [
    "def summer_69(arr):\n",
    "    total = 0\n",
    "    add = True\n",
    "    for num in arr:\n",
    "        while add:\n",
    "            if num != 6:\n",
    "                total += num\n",
    "                break\n",
    "            else:\n",
    "                add = False\n",
    "        while not add:\n",
    "            if num != 9:\n",
    "                break\n",
    "            else:\n",
    "                add = True\n",
    "                break\n",
    "    return total"
   ]
  },
  {
   "cell_type": "markdown",
   "metadata": {},
   "source": [
    "#### SPY GAME: Write a function that takes in a list of integers and returns True if it contains 007 in order\n",
    "\n",
    "     spy_game([1,2,4,0,0,7,5]) --> True\n",
    "     spy_game([1,0,2,4,0,5,7]) --> True\n",
    "     spy_game([1,7,2,0,4,5,0]) --> False\n"
   ]
  },
  {
   "cell_type": "code",
   "execution_count": 18,
   "metadata": {},
   "outputs": [],
   "source": [
    "def spy_game(nums):\n",
    "\n",
    "    code = [0,0,7,'x']\n",
    "    \n",
    "    for num in nums:\n",
    "        if num == code[0]:\n",
    "            code.pop(0)   # code.remove(num) also works\n",
    "       \n",
    "    return len(code) == 1"
   ]
  },
  {
   "cell_type": "code",
   "execution_count": 19,
   "metadata": {},
   "outputs": [],
   "source": [
    "def count_primes(num):\n",
    "    primes = [2]\n",
    "    x = 3\n",
    "    if num < 2:  # for the case of num = 0 or 1\n",
    "        return 0\n",
    "    while x <= num:\n",
    "        for y in range(3,x,2):  # test all odd factors up to x-1\n",
    "            if x%y == 0:\n",
    "                x += 2\n",
    "                break\n",
    "        else:\n",
    "            primes.append(x)\n",
    "            x += 2\n",
    "    print(primes)\n",
    "    return len(primes)\n",
    "                "
   ]
  },
  {
   "cell_type": "code",
   "execution_count": 20,
   "metadata": {},
   "outputs": [],
   "source": [
    "def unique_list(lst):\n",
    "    # Also possible to use list(set())\n",
    "    x = []\n",
    "    for a in lst:\n",
    "        if a not in x:\n",
    "            x.append(a)\n",
    "    return x"
   ]
  },
  {
   "cell_type": "code",
   "execution_count": 21,
   "metadata": {},
   "outputs": [],
   "source": [
    "#Multiply all numbers in a list\n",
    "def multiply(numbers):\n",
    "    total = 1\n",
    "    for x in numbers:\n",
    "        total *= x\n",
    "    return total"
   ]
  },
  {
   "cell_type": "code",
   "execution_count": 22,
   "metadata": {},
   "outputs": [
    {
     "data": {
      "text/plain": [
       "-24"
      ]
     },
     "execution_count": 22,
     "metadata": {},
     "output_type": "execute_result"
    }
   ],
   "source": [
    "multiply([1,2,3,-4])"
   ]
  },
  {
   "cell_type": "code",
   "execution_count": 23,
   "metadata": {},
   "outputs": [],
   "source": [
    "import string\n",
    "\n",
    "def ispangram(str1, alphabet=string.ascii_lowercase): \n",
    "    # Create a set of the alphabet\n",
    "    alphaset = set(alphabet)  \n",
    "    \n",
    "    # Remove spaces from str1\n",
    "    str1 = str1.replace(\" \",'')\n",
    "    \n",
    "    # Lowercase all strings in the passed in string\n",
    "    # Recall we assume no punctuation \n",
    "    str1 = str1.lower()\n",
    "    \n",
    "    # Grab all unique letters in the string as a set\n",
    "    str1 = set(str1)\n",
    "    \n",
    "    # Now check that the alpahbet set is same as string set\n",
    "    return str1 == alphaset"
   ]
  },
  {
   "cell_type": "code",
   "execution_count": 24,
   "metadata": {},
   "outputs": [],
   "source": [
    "#Challenge1\n",
    "def getNumberOfOptions(priceOfJeans, priceOfShoes, priceOfSkirts, priceOfTops, budgeted):\n",
    "    # Write your code here\n",
    "    result = 0\n",
    "    a = sorted([i+j for i,j in itertools.product(priceOfJeans,priceOfShoes)])\n",
    "    b = sorted([i+j for i,j in itertools.product(priceOfSkirts,priceOfTops)])\n",
    "    \n",
    "    for i in a:\n",
    "        if i>= budgeted:\n",
    "            break\n",
    "        j = bisect.bisect_right(b,budgeted-i)\n",
    "        \n",
    "        result+=j\n",
    "    \n",
    "    return result\n",
    "    \n"
   ]
  },
  {
   "cell_type": "code",
   "execution_count": 25,
   "metadata": {},
   "outputs": [],
   "source": [
    "# Complete the 'getNumberOfOptions' function below.\n",
    "#\n",
    "# The function is expected to return a LONG_INTEGER.\n",
    "# The function accepts following parameters:\n",
    "#  1. INTEGER_ARRAY priceOfJeans\n",
    "#  2. INTEGER_ARRAY priceOfShoes\n",
    "#  3. INTEGER_ARRAY priceOfSkirts\n",
    "#  4. INTEGER_ARRAY priceOfTops\n",
    "#  5. INTEGER budgeted\n",
    "#\n",
    "\n",
    "def getNumberOfOptions(priceOfJeans, priceOfShoes, priceOfSkirts, priceOfTops, budgeted):\n",
    "    jeansAndShoes = []\n",
    "    for jeans in priceOfJeans:\n",
    "        for shoes in priceOfShoes:\n",
    "            jeansAndShoes.append(jeans + shoes)\n",
    "    \n",
    "    skirtsAndTops = []\n",
    "    for skirts in priceOfSkirts:\n",
    "        for tops in priceOfTops:\n",
    "            skirtsAndTops.append(skirts + tops)\n",
    "    \n",
    "    jeansAndShoes.sort(reverse = True)\n",
    "    skirtsAndTops.sort()\n",
    "    \n",
    "    num_options = 0\n",
    "    limit = 0\n",
    "    for cost in jeansAndShoes:\n",
    "        remains = budgeted - cost\n",
    "        while (limit < len(skirtsAndTops) and skirtsAndTops[limit] <= remains):\n",
    "            limit+= 1\n",
    "        num_options += limit\n",
    "    \n",
    "    return num_options\n"
   ]
  },
  {
   "cell_type": "code",
   "execution_count": 26,
   "metadata": {},
   "outputs": [
    {
     "name": "stdout",
     "output_type": "stream",
     "text": [
      "ababa\n"
     ]
    },
    {
     "ename": "ValueError",
     "evalue": "invalid literal for int() with base 10: 'ababa'",
     "output_type": "error",
     "traceback": [
      "\u001b[1;31m---------------------------------------------------------------------------\u001b[0m",
      "\u001b[1;31mValueError\u001b[0m                                Traceback (most recent call last)",
      "\u001b[1;32m<ipython-input-26-a28527406413>\u001b[0m in \u001b[0;36m<module>\u001b[1;34m\u001b[0m\n\u001b[0;32m      3\u001b[0m \u001b[1;33m\u001b[0m\u001b[0m\n\u001b[0;32m      4\u001b[0m \u001b[1;31m# Take the number of strings you want to take from keyboard\u001b[0m\u001b[1;33m\u001b[0m\u001b[1;33m\u001b[0m\u001b[1;33m\u001b[0m\u001b[0m\n\u001b[1;32m----> 5\u001b[1;33m \u001b[0mx\u001b[0m \u001b[1;33m=\u001b[0m \u001b[0mint\u001b[0m\u001b[1;33m(\u001b[0m\u001b[0minput\u001b[0m\u001b[1;33m(\u001b[0m\u001b[1;33m)\u001b[0m\u001b[1;33m)\u001b[0m\u001b[1;33m\u001b[0m\u001b[1;33m\u001b[0m\u001b[0m\n\u001b[0m\u001b[0;32m      6\u001b[0m \u001b[1;33m\u001b[0m\u001b[0m\n\u001b[0;32m      7\u001b[0m \u001b[1;31m# The input list where all the inputs can be kept\u001b[0m\u001b[1;33m\u001b[0m\u001b[1;33m\u001b[0m\u001b[1;33m\u001b[0m\u001b[0m\n",
      "\u001b[1;31mValueError\u001b[0m: invalid literal for int() with base 10: 'ababa'"
     ]
    }
   ],
   "source": [
    "#String starts and ends with same letter\n",
    "import re\n",
    "\n",
    "# Take the number of strings you want to take from keyboard\n",
    "x = int(input())\n",
    "\n",
    "# The input list where all the inputs can be kept\n",
    "list_of_strings = []\n",
    "\n",
    "# initialize the regular expression\n",
    "regex = r'^[a-z]$|^([a-z]).*\\1$'\n",
    "\n",
    "# Take the inputs from keyboard - the strings\n",
    "for y in range(x):\n",
    "    input_string = input()\n",
    "    list_of_strings.append(input_string)\n",
    " \n",
    "# Validate against the regular expression & Print TRUE and FALSE\n",
    "for y in range(x):\n",
    "    if (re.search(regex, list_of_strings[y])):   \n",
    "        print(\"TRUE\")   \n",
    "    else:   \n",
    "        print(\"FALSE\")\n",
    "\n"
   ]
  },
  {
   "cell_type": "code",
   "execution_count": 27,
   "metadata": {},
   "outputs": [],
   "source": [
    "# Find the size of the list/Define size function\n",
    "def size():\n",
    "    return len(list_of_numbers)\n",
    "\n",
    "# Define pop operation\n",
    "def pop():\n",
    "    if (len(list_of_numbers) > 0):\n",
    "        pop_element = list_of_numbers.pop()\n",
    "        return list_of_numbers\n",
    "\n",
    "# Append element - First, it removes all elements from the list that have greater values than value, starting from the last one. \n",
    "# Once there are no greater elements in the list, it appends value to the end of the list.\n",
    "def append(value):\n",
    "    if (len(list_of_numbers) > 0):\n",
    "        list_of_numbers.sort() \n",
    "        while list_of_numbers[-1] > value:\n",
    "                list_of_numbers.pop()\n",
    "            list_of_numbers.append(value)\n",
    "    else:\n",
    "        list_of_numbers.append(value)  \n"
   ]
  },
  {
   "cell_type": "code",
   "execution_count": 28,
   "metadata": {},
   "outputs": [],
   "source": [
    "def calleft(stockData,n):\n",
    "    S = []\n",
    "    ans_lft=[]\n",
    "    i=0\n",
    "    while i<n:\n",
    "        while (len(S) > 0 and S[-1][0] >= stockData[i]):\n",
    "            S.pop()\n",
    " \n",
    "        if (len(S) == 0):\n",
    "            ans_lft.append(-1)\n",
    "        else:\n",
    "            ans_lft.append(S[-1][1])\n",
    "        S.append((stockData[i],i+1))\n",
    "        \n",
    "        i=i+1\n",
    "    return ans_lft\n",
    "        \n",
    "def calright(stockData,n):\n",
    "    S = []\n",
    "    ans_right=[]\n",
    "    i=n-1\n",
    "    while i > -1:\n",
    "        while (len(S) >0 and S[-1][0] >= stockData[i]):\n",
    "            S.pop()\n",
    "        if (len(S) == 0):\n",
    "            ans_right.append(-1)\n",
    "        else:\n",
    "            ans_right.append(S[-1][1])\n",
    "        S.append((stockData[i],i+1))\n",
    "        i=i-1\n",
    "    return ans_right\n",
    "    \n",
    "\n",
    "def predictAnswer(stockData, queries):\n",
    "    # Write your code here\n",
    "    ans_lft=calleft(stockData,len(stockData))\n",
    "    ans_right=calright(stockData,len(stockData))\n",
    "    ans_right.reverse()\n",
    "    print(\"left---\",ans_lft)\n",
    "    print(\"right -----\",ans_right)\n",
    "      \n",
    "    \n",
    "    vec=[]\n",
    "    for i in queries:\n",
    "        if ans_lft[i-1] == -1 and ans_right[i-1] == -1:\n",
    "            vec.append(-1)\n",
    "        elif ans_lft[i-1] == -1 and ans_right[i-1] != -1:\n",
    "            vec.append(ans_right[i-1])\n",
    "        elif ans_lft[i-1] != -1 and ans_right[i-1] == -1:\n",
    "            vec.append(ans_lft[i-1])\n",
    "        else:\n",
    "            difl=i-ans_lft[i-1]\n",
    "            difr=ans_right[i-1]-i\n",
    "            if difr<difl:\n",
    "                vec.append(ans_right[i-1])\n",
    "            else:\n",
    "                vec.append(ans_lft[i-1])\n",
    "    print(\"Final ans---\",vec)\n",
    "    return vec\n"
   ]
  },
  {
   "cell_type": "code",
   "execution_count": 29,
   "metadata": {},
   "outputs": [],
   "source": [
    "a=[1,2,3,4]"
   ]
  },
  {
   "cell_type": "code",
   "execution_count": 32,
   "metadata": {},
   "outputs": [
    {
     "ename": "TypeError",
     "evalue": "'int' object is not subscriptable",
     "output_type": "error",
     "traceback": [
      "\u001b[1;31m---------------------------------------------------------------------------\u001b[0m",
      "\u001b[1;31mTypeError\u001b[0m                                 Traceback (most recent call last)",
      "\u001b[1;32m<ipython-input-32-b4ad1e8aaf95>\u001b[0m in \u001b[0;36m<module>\u001b[1;34m\u001b[0m\n\u001b[1;32m----> 1\u001b[1;33m \u001b[0ma\u001b[0m\u001b[1;33m[\u001b[0m\u001b[1;33m-\u001b[0m\u001b[1;36m1\u001b[0m\u001b[1;33m]\u001b[0m\u001b[1;33m[\u001b[0m\u001b[1;36m0\u001b[0m\u001b[1;33m]\u001b[0m\u001b[1;33m\u001b[0m\u001b[1;33m\u001b[0m\u001b[0m\n\u001b[0m",
      "\u001b[1;31mTypeError\u001b[0m: 'int' object is not subscriptable"
     ]
    }
   ],
   "source": [
    "a[-1][0]"
   ]
  },
  {
   "cell_type": "code",
   "execution_count": 5,
   "metadata": {},
   "outputs": [],
   "source": [
    "def solution(unsorted_prices,max_price):\n",
    "    price_to_counts=[0]*(max_price+1)\n",
    "    \n",
    "    for price in unsorted_prices:\n",
    "        price_to_counts[price]+=1\n",
    "    sorted_prices=[]\n",
    "    for price,count in enumerate(price_to_counts):\n",
    "        for time in range(count):\n",
    "            sorted_prices.append(price)\n",
    "    \n",
    "    return sorted_prices"
   ]
  },
  {
   "cell_type": "code",
   "execution_count": 32,
   "metadata": {},
   "outputs": [],
   "source": [
    "a=[6,2,1,2,1]"
   ]
  },
  {
   "cell_type": "code",
   "execution_count": 35,
   "metadata": {},
   "outputs": [],
   "source": [
    "e=sorted(a,key=lambda i:a.index(i))\n"
   ]
  },
  {
   "cell_type": "code",
   "execution_count": 38,
   "metadata": {},
   "outputs": [],
   "source": [
    "c=sorted(e,key=lambda i:e.count(i),reverse=True)"
   ]
  },
  {
   "cell_type": "code",
   "execution_count": 39,
   "metadata": {},
   "outputs": [
    {
     "data": {
      "text/plain": [
       "[2, 2, 1, 1, 6]"
      ]
     },
     "execution_count": 39,
     "metadata": {},
     "output_type": "execute_result"
    }
   ],
   "source": [
    "c"
   ]
  },
  {
   "cell_type": "code",
   "execution_count": 40,
   "metadata": {},
   "outputs": [],
   "source": [
    "\n",
    "b=[]\n",
    "for i in range(len(c)):\n",
    "    if c[i]==c[i-1]:\n",
    "        b.append(c[i])\n",
    "    "
   ]
  },
  {
   "cell_type": "code",
   "execution_count": 41,
   "metadata": {},
   "outputs": [],
   "source": [
    "d=set(c)"
   ]
  },
  {
   "cell_type": "code",
   "execution_count": 42,
   "metadata": {},
   "outputs": [
    {
     "data": {
      "text/plain": [
       "{1, 2, 6}"
      ]
     },
     "execution_count": 42,
     "metadata": {},
     "output_type": "execute_result"
    }
   ],
   "source": [
    "d"
   ]
  },
  {
   "cell_type": "code",
   "execution_count": 43,
   "metadata": {},
   "outputs": [
    {
     "data": {
      "text/plain": [
       "[2, 1]"
      ]
     },
     "execution_count": 43,
     "metadata": {},
     "output_type": "execute_result"
    }
   ],
   "source": [
    "b"
   ]
  },
  {
   "cell_type": "code",
   "execution_count": 44,
   "metadata": {},
   "outputs": [],
   "source": [
    "for i in d:\n",
    "    if i not in b:\n",
    "        b.append(i)"
   ]
  },
  {
   "cell_type": "code",
   "execution_count": 45,
   "metadata": {},
   "outputs": [
    {
     "data": {
      "text/plain": [
       "[2, 1, 6]"
      ]
     },
     "execution_count": 45,
     "metadata": {},
     "output_type": "execute_result"
    }
   ],
   "source": [
    "b"
   ]
  },
  {
   "cell_type": "code",
   "execution_count": 47,
   "metadata": {},
   "outputs": [],
   "source": [
    "ini_list = [1, 2, 3, 4, 4, 5, 5, 5, 5, 7,\n",
    "            1, 1, 2, 4, 7, 8, 9, 6, 6, 6]\n"
   ]
  },
  {
   "cell_type": "code",
   "execution_count": 51,
   "metadata": {},
   "outputs": [],
   "source": [
    "from collections import Counter"
   ]
  },
  {
   "cell_type": "code",
   "execution_count": 53,
   "metadata": {},
   "outputs": [
    {
     "data": {
      "text/plain": [
       "[5, 5, 5, 5, 1, 1, 1, 4, 4, 4, 6, 6, 6, 2, 2, 7, 7, 3, 8, 9]"
      ]
     },
     "execution_count": 53,
     "metadata": {},
     "output_type": "execute_result"
    }
   ],
   "source": [
    "[item for items,c in Counter(ini_list).most_common() for item in [items]*c]"
   ]
  },
  {
   "cell_type": "code",
   "execution_count": 54,
   "metadata": {},
   "outputs": [],
   "source": [
    "table = [0 for k in range(6)]"
   ]
  },
  {
   "cell_type": "code",
   "execution_count": 55,
   "metadata": {},
   "outputs": [
    {
     "data": {
      "text/plain": [
       "[0, 0, 0, 0, 0, 0]"
      ]
     },
     "execution_count": 55,
     "metadata": {},
     "output_type": "execute_result"
    }
   ],
   "source": [
    "table"
   ]
  },
  {
   "cell_type": "code",
   "execution_count": 8,
   "metadata": {},
   "outputs": [],
   "source": [
    "#longest common subsequence\n",
    "def lcs(X,Y,m,n):\n",
    "    if m==0 or n==0:\n",
    "        return 0\n",
    "    elif X[m-1]==Y[n-1]:\n",
    "        return 1+lcs(X,Y,m-1,n-1)\n",
    "    else:\n",
    "        return max(lcs(X,Y,m,n-1),lcs(X,Y,m-1,n))\n",
    "    "
   ]
  },
  {
   "cell_type": "code",
   "execution_count": 10,
   "metadata": {},
   "outputs": [
    {
     "name": "stdout",
     "output_type": "stream",
     "text": [
      "Length of LCS is  4\n"
     ]
    }
   ],
   "source": [
    "X = \"AGGTAB\"\n",
    "Y = \"GXTXAYB\"\n",
    "print (\"Length of LCS is \", lcs(X , Y, len(X), len(Y)) )\n"
   ]
  },
  {
   "cell_type": "code",
   "execution_count": 14,
   "metadata": {},
   "outputs": [],
   "source": [
    "def lcs(X,Y):\n",
    "    m=len(X)\n",
    "    n=len(Y)\n",
    "    #declaring array for storing dp values\n",
    "    L=[[None]*(n+1) for i in range(m+1)]\n",
    "    #\"Following steps build L[m+1][n+1] in bottom up fashion\n",
    "    for i in range(m+1):\n",
    "        for j in range(n+1):\n",
    "            if i==0 or j==0:\n",
    "                L[i][j]=0\n",
    "            elif X[i-1]==Y[j-1]:\n",
    "                L[i][j]=L[i-1][j-1]+1\n",
    "            else:\n",
    "                L[i][j]=max(L[i-1][j],L[i][j-1])\n",
    "    return L[m][n]"
   ]
  },
  {
   "cell_type": "code",
   "execution_count": 15,
   "metadata": {},
   "outputs": [
    {
     "name": "stdout",
     "output_type": "stream",
     "text": [
      "Length of LCS is  4\n"
     ]
    }
   ],
   "source": [
    "X = \"AGGTAB\"\n",
    "Y = \"GXTXAYB\"\n",
    "print (\"Length of LCS is \", lcs(X , Y) )\n"
   ]
  },
  {
   "cell_type": "code",
   "execution_count": 5,
   "metadata": {},
   "outputs": [],
   "source": [
    "c=[2,2,1,1,6]"
   ]
  },
  {
   "cell_type": "code",
   "execution_count": 3,
   "metadata": {},
   "outputs": [],
   "source": [
    "c=list(dict.fromkeys(c))"
   ]
  },
  {
   "cell_type": "code",
   "execution_count": 4,
   "metadata": {},
   "outputs": [
    {
     "data": {
      "text/plain": [
       "[2, 1, 6]"
      ]
     },
     "execution_count": 4,
     "metadata": {},
     "output_type": "execute_result"
    }
   ],
   "source": [
    "c"
   ]
  },
  {
   "cell_type": "code",
   "execution_count": 2,
   "metadata": {},
   "outputs": [
    {
     "name": "stdout",
     "output_type": "stream",
     "text": [
      "Data scienceiscool\n"
     ]
    }
   ],
   "source": [
    "print(\"Data science\" \"is\" \"cool\")"
   ]
  },
  {
   "cell_type": "code",
   "execution_count": 3,
   "metadata": {},
   "outputs": [
    {
     "name": "stdout",
     "output_type": "stream",
     "text": [
      "Letters: 3\n",
      "Numbers: 3\n",
      "Special chars: 1\n"
     ]
    }
   ],
   "source": [
    "str='anu123$'\n",
    "cha=num=pun=0\n",
    "for i in str:\n",
    "    if i.isdigit():\n",
    "        num=num+1\n",
    "    elif i.isalpha():\n",
    "        cha=cha+1\n",
    "    else:\n",
    "        pun=pun+1\n",
    "print('Letters:',cha)\n",
    "print('Numbers:',num)\n",
    "print('Special chars:',pun)"
   ]
  },
  {
   "cell_type": "code",
   "execution_count": 9,
   "metadata": {},
   "outputs": [],
   "source": [
    "def subsumcnt(arr,k):\n",
    "    res=0\n",
    "    currsum=0\n",
    "    prefixSums={0:1}\n",
    "    for i in arr:\n",
    "        currsum+=i\n",
    "        diff=currsum-k\n",
    "        res+=prefixSums.get(diff,0)\n",
    "        prefixSums[currsum]=1+prefixSums.get(currsum,0)\n",
    "        \n",
    "    return res\n",
    "        \n",
    "        "
   ]
  },
  {
   "cell_type": "code",
   "execution_count": 10,
   "metadata": {},
   "outputs": [
    {
     "data": {
      "text/plain": [
       "2"
      ]
     },
     "execution_count": 10,
     "metadata": {},
     "output_type": "execute_result"
    }
   ],
   "source": [
    "arr=[1,-1,1,1,1]\n",
    "subsumcnt(arr,3)"
   ]
  },
  {
   "cell_type": "code",
   "execution_count": 15,
   "metadata": {},
   "outputs": [],
   "source": [
    "def twosum(arr,k):\n",
    "    prevmap={}\n",
    "    for i,n in enumerate(arr):\n",
    "        diff=k-n\n",
    "        if diff in prevmap:\n",
    "            return [prevmap[diff],i]\n",
    "        prevmap[n]=i"
   ]
  },
  {
   "cell_type": "code",
   "execution_count": 17,
   "metadata": {},
   "outputs": [
    {
     "data": {
      "text/plain": [
       "[0, 1]"
      ]
     },
     "execution_count": 17,
     "metadata": {},
     "output_type": "execute_result"
    }
   ],
   "source": [
    "twosum([1,3,5,2],4)"
   ]
  },
  {
   "cell_type": "code",
   "execution_count": 18,
   "metadata": {},
   "outputs": [],
   "source": [
    "def pair_sum(arr,sum):\n",
    "    arr.sort()\n",
    "    left=0\n",
    "    right=len(arr)-1\n",
    "    while(left<=right):\n",
    "        if (arr[left]+arr[right]>sum):\n",
    "            right=right-1\n",
    "        elif (arr[left]+arr[right]<sum):\n",
    "            left=left+1\n",
    "        elif(arr[left]+arr[right]==sum):\n",
    "            print(\"Pair values are\",arr[left],arr[right])\n",
    "            left=left+1\n",
    "            right=right-1"
   ]
  },
  {
   "cell_type": "code",
   "execution_count": 19,
   "metadata": {},
   "outputs": [
    {
     "name": "stdout",
     "output_type": "stream",
     "text": [
      "Pair values are 8 9\n"
     ]
    }
   ],
   "source": [
    "pair_sum([3,4,8,5,9,8,19],17)"
   ]
  },
  {
   "cell_type": "code",
   "execution_count": 20,
   "metadata": {},
   "outputs": [],
   "source": [
    "def max_sum_subarr(arr):\n",
    "    size=len(arr)\n",
    "    curr_sum=0\n",
    "    max_so_far=arr[0]\n",
    "    st=0;end=0;poi=0\n",
    "    for i in range(0,size):\n",
    "        curr_sum=curr_sum+arr[i]\n",
    "        \n",
    "        if (max_so_far<curr_sum):\n",
    "            max_so_far=curr_sum\n",
    "            st=poi\n",
    "            end=i\n",
    "        if curr_sum<0:\n",
    "            curr_sum=0\n",
    "            poi=i+1\n",
    "    print('Max sum in sub array is',max_so_far)\n",
    "    print('start index is',st)\n",
    "    print('End index is',end)"
   ]
  },
  {
   "cell_type": "code",
   "execution_count": 21,
   "metadata": {},
   "outputs": [],
   "source": [
    "arr=[4,-3,-2,2,3,1,-2,-3,6,-6,-4,2,1]"
   ]
  },
  {
   "cell_type": "code",
   "execution_count": 22,
   "metadata": {},
   "outputs": [
    {
     "name": "stdout",
     "output_type": "stream",
     "text": [
      "Max sum in sub array is 7\n",
      "start index is 3\n",
      "End index is 8\n"
     ]
    }
   ],
   "source": [
    "max_sum_subarr(arr)"
   ]
  },
  {
   "cell_type": "code",
   "execution_count": 24,
   "metadata": {},
   "outputs": [],
   "source": [
    "def threesum(arr):\n",
    "    res=[]\n",
    "    arr.sort()\n",
    "    \n",
    "    for i,a in enumerate(arr):\n",
    "        if i>0 and a==arr[i-1]:\n",
    "            continue\n",
    "        l,r=i+1,len(arr)-1\n",
    "        while l<r:\n",
    "            threesum=a+arr[l]+arr[r]\n",
    "            if threesum>0:\n",
    "                r-=1\n",
    "            elif threesum<0:\n",
    "                l+=1\n",
    "            else:\n",
    "                res.append([a,arr[l],arr[r]])\n",
    "                l+=1\n",
    "                while arr[l]==arr[l-1] and l<r:\n",
    "                    l+=1\n",
    "    return res"
   ]
  },
  {
   "cell_type": "code",
   "execution_count": 26,
   "metadata": {},
   "outputs": [
    {
     "data": {
      "text/plain": [
       "[[-2, 0, 2], [-1, -1, 2], [-1, 0, 1]]"
      ]
     },
     "execution_count": 26,
     "metadata": {},
     "output_type": "execute_result"
    }
   ],
   "source": [
    "threesum([-1,0,2,1,-2,-1,-4])"
   ]
  },
  {
   "cell_type": "code",
   "execution_count": 1,
   "metadata": {},
   "outputs": [],
   "source": [
    "a=[1,2,3,4]"
   ]
  },
  {
   "cell_type": "code",
   "execution_count": 3,
   "metadata": {},
   "outputs": [
    {
     "data": {
      "text/plain": [
       "[4, 3, 2, 1]"
      ]
     },
     "execution_count": 3,
     "metadata": {},
     "output_type": "execute_result"
    }
   ],
   "source": [
    "list(reversed(a))"
   ]
  },
  {
   "cell_type": "code",
   "execution_count": 33,
   "metadata": {},
   "outputs": [],
   "source": [
    "b=[2,2,1,6,7]"
   ]
  },
  {
   "cell_type": "code",
   "execution_count": 34,
   "metadata": {},
   "outputs": [],
   "source": [
    "c=sorted(b,key=lambda i:b.index(i))"
   ]
  },
  {
   "cell_type": "code",
   "execution_count": 35,
   "metadata": {},
   "outputs": [
    {
     "data": {
      "text/plain": [
       "[2, 2, 1, 6, 7]"
      ]
     },
     "execution_count": 35,
     "metadata": {},
     "output_type": "execute_result"
    }
   ],
   "source": [
    "c"
   ]
  },
  {
   "cell_type": "code",
   "execution_count": 36,
   "metadata": {},
   "outputs": [
    {
     "data": {
      "text/plain": [
       "[2, 1, 6, 7]"
      ]
     },
     "execution_count": 36,
     "metadata": {},
     "output_type": "execute_result"
    }
   ],
   "source": [
    "list(dict.fromkeys(c))"
   ]
  },
  {
   "cell_type": "code",
   "execution_count": 14,
   "metadata": {},
   "outputs": [],
   "source": [
    "def reverse_word(s):\n",
    "    s=s.split()\n",
    "    reverse=''\n",
    "    for i in s:\n",
    "        reverse=i+reverse\n",
    "    return reverse\n",
    "    "
   ]
  },
  {
   "cell_type": "code",
   "execution_count": 15,
   "metadata": {},
   "outputs": [
    {
     "data": {
      "text/plain": [
       "'youareHow'"
      ]
     },
     "execution_count": 15,
     "metadata": {},
     "output_type": "execute_result"
    }
   ],
   "source": [
    "reverse_word('How are you')"
   ]
  },
  {
   "cell_type": "code",
   "execution_count": 7,
   "metadata": {},
   "outputs": [],
   "source": [
    "s='How are you'\n",
    "s=s.split()[::-1]"
   ]
  },
  {
   "cell_type": "code",
   "execution_count": 8,
   "metadata": {},
   "outputs": [
    {
     "data": {
      "text/plain": [
       "['you', 'are', 'How']"
      ]
     },
     "execution_count": 8,
     "metadata": {},
     "output_type": "execute_result"
    }
   ],
   "source": [
    "s"
   ]
  },
  {
   "cell_type": "code",
   "execution_count": 10,
   "metadata": {},
   "outputs": [
    {
     "data": {
      "text/plain": [
       "'you are How'"
      ]
     },
     "execution_count": 10,
     "metadata": {},
     "output_type": "execute_result"
    }
   ],
   "source": [
    "' '.join(s)"
   ]
  },
  {
   "cell_type": "code",
   "execution_count": null,
   "metadata": {},
   "outputs": [],
   "source": []
  }
 ],
 "metadata": {
  "kernelspec": {
   "display_name": "Python 3",
   "language": "python",
   "name": "python3"
  },
  "language_info": {
   "codemirror_mode": {
    "name": "ipython",
    "version": 3
   },
   "file_extension": ".py",
   "mimetype": "text/x-python",
   "name": "python",
   "nbconvert_exporter": "python",
   "pygments_lexer": "ipython3",
   "version": "3.7.6"
  }
 },
 "nbformat": 4,
 "nbformat_minor": 4
}
